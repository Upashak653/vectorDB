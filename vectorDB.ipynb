{
 "cells": [
  {
   "cell_type": "code",
   "execution_count": 1,
   "id": "c059fdd0",
   "metadata": {},
   "outputs": [],
   "source": [
    "import os\n",
    "from pinecone import Pinecone, ServerlessSpec\n",
    "from langchain.document_loaders import PyPDFDirectoryLoader\n",
    "from langchain.text_splitter import RecursiveCharacterTextSplitter\n",
    "from langchain_community.embeddings import OpenAIEmbeddings\n",
    "from langchain_community.vectorstores import Pinecone as PineconeVectorStore\n",
    "from langchain.llms import OpenAI\n",
    "from langchain.chains import RetrievalQA"
   ]
  },
  {
   "cell_type": "code",
   "execution_count": 19,
   "id": "d89ba941",
   "metadata": {},
   "outputs": [],
   "source": [
    "from dotenv import load_dotenv\n",
    "load_dotenv()\n",
    "key = os.getenv(\"OPENAI_API_KEY\")\n",
    "api_key = os.getenv(\"PINECONE_API_KEY\")\n",
    "INDEX=os.getenv(\"INDEX_NAME\")\n"
   ]
  },
  {
   "cell_type": "code",
   "execution_count": 34,
   "id": "3056ef7e",
   "metadata": {},
   "outputs": [],
   "source": [
    "pc = Pinecone(api_key=os.getenv(\"PINECONE_API_KEY\"))\n",
    "\n",
    "if \"test\" not in pc.list_indexes().names():\n",
    "    pc.create_index(\n",
    "        name=\"test\",\n",
    "        dimension=1536,\n",
    "        metric=\"cosine\",\n",
    "        spec=ServerlessSpec(cloud=\"aws\", region=\"us-east-1\")\n",
    "    )\n"
   ]
  },
  {
   "cell_type": "code",
   "execution_count": 22,
   "id": "2ada65e0",
   "metadata": {},
   "outputs": [
    {
     "name": "stderr",
     "output_type": "stream",
     "text": [
      "A subdirectory or file pdfs already exists.\n"
     ]
    }
   ],
   "source": [
    "!mkdir pdfs"
   ]
  },
  {
   "cell_type": "code",
   "execution_count": 23,
   "id": "06b0ff20",
   "metadata": {},
   "outputs": [],
   "source": [
    "loader=PyPDFDirectoryLoader(\"pdfs\")"
   ]
  },
  {
   "cell_type": "code",
   "execution_count": 24,
   "id": "708fcb3f",
   "metadata": {},
   "outputs": [],
   "source": [
    "data=loader.load()"
   ]
  },
  {
   "cell_type": "code",
   "execution_count": 25,
   "id": "5d1203d3",
   "metadata": {},
   "outputs": [
    {
     "name": "stdout",
     "output_type": "stream",
     "text": [
      "Data loaded successfully!\n"
     ]
    },
    {
     "data": {
      "text/plain": [
       "Document(metadata={'producer': 'jsPDF 2.5.1', 'creator': 'PyPDF', 'creationdate': '2025-08-02T22:43:29+05:30', 'source': 'pdfs\\\\converted (1).pdf', 'total_pages': 1, 'page': 0, 'page_label': '1'}, page_content='Converted using ILovePDF3.com\\nMachine learning approaches are traditionally divided into three broad\\ncategories, which correspond to learning paradigms, depending on the\\nnature of the \"signal\" or \"feedback\" available to the learning system:')"
      ]
     },
     "metadata": {},
     "output_type": "display_data"
    }
   ],
   "source": [
    "if data:\n",
    "    print(\"Data loaded successfully!\")\n",
    "    display(data[0])\n",
    "else:\n",
    "    print(\"No data loaded. Make sure you have uploaded PDF files to the 'pdfs' directory.\")"
   ]
  },
  {
   "cell_type": "code",
   "execution_count": 26,
   "id": "56db78bc",
   "metadata": {},
   "outputs": [],
   "source": [
    "text_splitter = RecursiveCharacterTextSplitter()"
   ]
  },
  {
   "cell_type": "code",
   "execution_count": 27,
   "id": "a9706c94",
   "metadata": {},
   "outputs": [],
   "source": [
    "text_chunks = text_splitter.split_documents(data)"
   ]
  },
  {
   "cell_type": "code",
   "execution_count": 28,
   "id": "d2f98007",
   "metadata": {},
   "outputs": [
    {
     "data": {
      "text/plain": [
       "[Document(metadata={'producer': 'jsPDF 2.5.1', 'creator': 'PyPDF', 'creationdate': '2025-08-02T22:43:29+05:30', 'source': 'pdfs\\\\converted (1).pdf', 'total_pages': 1, 'page': 0, 'page_label': '1'}, page_content='Converted using ILovePDF3.com\\nMachine learning approaches are traditionally divided into three broad\\ncategories, which correspond to learning paradigms, depending on the\\nnature of the \"signal\" or \"feedback\" available to the learning system:')]"
      ]
     },
     "execution_count": 28,
     "metadata": {},
     "output_type": "execute_result"
    }
   ],
   "source": [
    "text_chunks"
   ]
  },
  {
   "cell_type": "code",
   "execution_count": 29,
   "id": "5bebabeb",
   "metadata": {},
   "outputs": [],
   "source": [
    "embeddings = OpenAIEmbeddings()"
   ]
  },
  {
   "cell_type": "code",
   "execution_count": 30,
   "id": "6b6e34d2",
   "metadata": {},
   "outputs": [],
   "source": [
    "from langchain_community.vectorstores import Pinecone as PineconeVectorStore\n",
    "\n",
    "vectorstore = PineconeVectorStore.from_documents(\n",
    "    documents=text_chunks,\n",
    "    embedding=embeddings,\n",
    "    index_name=INDEX,\n",
    ")"
   ]
  },
  {
   "cell_type": "code",
   "execution_count": 31,
   "id": "ba8002e7",
   "metadata": {},
   "outputs": [
    {
     "name": "stderr",
     "output_type": "stream",
     "text": [
      "C:\\Users\\UPASHAK GAYEN\\AppData\\Local\\Temp\\ipykernel_26484\\1397055574.py:1: LangChainDeprecationWarning: The class `OpenAI` was deprecated in LangChain 0.0.10 and will be removed in 1.0. An updated version of the class exists in the :class:`~langchain-openai package and should be used instead. To use it run `pip install -U :class:`~langchain-openai` and import as `from :class:`~langchain_openai import OpenAI``.\n",
      "  llm = OpenAI(model=\"gpt-4o-mini\", temperature=0)\n"
     ]
    }
   ],
   "source": [
    "llm = OpenAI(model=\"gpt-4o-mini\", temperature=0)"
   ]
  },
  {
   "cell_type": "code",
   "execution_count": 32,
   "id": "e43623f4",
   "metadata": {},
   "outputs": [],
   "source": [
    "qa = RetrievalQA.from_chain_type(\n",
    "    llm=llm,\n",
    "    chain_type=\"stuff\",\n",
    "    retriever=vectorstore.as_retriever()\n",
    ")"
   ]
  },
  {
   "cell_type": "code",
   "execution_count": 33,
   "id": "681521e0",
   "metadata": {},
   "outputs": [
    {
     "name": "stderr",
     "output_type": "stream",
     "text": [
      "C:\\Users\\UPASHAK GAYEN\\AppData\\Local\\Temp\\ipykernel_26484\\1835139474.py:2: LangChainDeprecationWarning: The method `Chain.run` was deprecated in langchain 0.1.0 and will be removed in 1.0. Use :meth:`~invoke` instead.\n",
      "  result = qa.run(query)\n"
     ]
    },
    {
     "name": "stdout",
     "output_type": "stream",
     "text": [
      "Answer:  The main idea discussed in the PDFs is the categorization of machine learning approaches into three broad categories based on the nature of the signal or feedback available to the learning system.\n"
     ]
    }
   ],
   "source": [
    "query = \"What is the main idea discussed in the PDFs?\"\n",
    "result = qa.run(query)\n",
    "\n",
    "print(\"Answer:\", result)"
   ]
  },
  {
   "cell_type": "code",
   "execution_count": null,
   "id": "0f0046fe",
   "metadata": {},
   "outputs": [],
   "source": []
  }
 ],
 "metadata": {
  "kernelspec": {
   "display_name": "base",
   "language": "python",
   "name": "python3"
  },
  "language_info": {
   "codemirror_mode": {
    "name": "ipython",
    "version": 3
   },
   "file_extension": ".py",
   "mimetype": "text/x-python",
   "name": "python",
   "nbconvert_exporter": "python",
   "pygments_lexer": "ipython3",
   "version": "3.12.7"
  }
 },
 "nbformat": 4,
 "nbformat_minor": 5
}
